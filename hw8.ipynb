{
  "nbformat": 4,
  "nbformat_minor": 0,
  "metadata": {
    "colab": {
      "provenance": [],
      "authorship_tag": "ABX9TyMR32PDzO9XXe1Wqku3tBvf",
      "include_colab_link": true
    },
    "kernelspec": {
      "name": "python3",
      "display_name": "Python 3"
    },
    "language_info": {
      "name": "python"
    }
  },
  "cells": [
    {
      "cell_type": "markdown",
      "metadata": {
        "id": "view-in-github",
        "colab_type": "text"
      },
      "source": [
        "<a href=\"https://colab.research.google.com/github/merve-erdem01/merve-erdem/blob/main/hw8.ipynb\" target=\"_parent\"><img src=\"https://colab.research.google.com/assets/colab-badge.svg\" alt=\"Open In Colab\"/></a>"
      ]
    },
    {
      "cell_type": "code",
      "source": [
        "import pandas as pd\n",
        "import numpy as np\n",
        "import matplotlib.pyplot as plt\n",
        "import seaborn as sns"
      ],
      "metadata": {
        "id": "accsHGLtIDLF"
      },
      "execution_count": 72,
      "outputs": []
    },
    {
      "cell_type": "code",
      "execution_count": 73,
      "metadata": {
        "colab": {
          "base_uri": "https://localhost:8080/"
        },
        "id": "WrfXrbpBG1wM",
        "outputId": "671ee420-6215-44dc-b6d5-9a2f62d0bcbe"
      },
      "outputs": [
        {
          "output_type": "stream",
          "name": "stdout",
          "text": [
            "Drive already mounted at /content/drive; to attempt to forcibly remount, call drive.mount(\"/content/drive\", force_remount=True).\n"
          ]
        }
      ],
      "source": [
        "\n",
        "from google.colab import drive\n",
        "drive.mount('/content/drive')"
      ]
    },
    {
      "cell_type": "code",
      "source": [
        "from scipy.sparse.linalg import svds\n",
        "from sklearn.metrics.pairwise import cosine_similarity\n"
      ],
      "metadata": {
        "id": "Zx0muBrOei9y"
      },
      "execution_count": 74,
      "outputs": []
    },
    {
      "cell_type": "code",
      "source": [
        "def load_data():\n",
        "  joke_text = pd.read_csv('/content/drive/MyDrive/Colab Notebooks/JokeText.csv')\n",
        "\n",
        "  user_ratings1= pd.read_csv('/content/drive/MyDrive/Colab Notebooks/UserRatings1.csv')\n",
        "  user_ratings2= pd.read_csv('/content/drive/MyDrive/Colab Notebooks/UserRatings2.csv')\n",
        "\n",
        "  user_ratings = pd.concat([user_ratings1, user_ratings2], axis=1)\n",
        "  user_ratings.fillna(0, inplace=True)\n",
        "  return joke_text, user_ratings"
      ],
      "metadata": {
        "id": "oh7XCmT6IRMO"
      },
      "execution_count": 87,
      "outputs": []
    },
    {
      "cell_type": "code",
      "source": [
        "def preprocess_data(user_ratings):\n",
        "    ratings_matrix = user_ratings.drop(columns=['JokeId']).values\n",
        "    return ratings_matrix"
      ],
      "metadata": {
        "id": "g_KXrAigtD1k"
      },
      "execution_count": 83,
      "outputs": []
    },
    {
      "cell_type": "code",
      "source": [
        "def train_svd_model(ratings_matrix, k=20):\n",
        "    U, sigma, Vt = svds(ratings_matrix, k=k)\n",
        "    sigma = np.diag(sigma)\n",
        "    predicted_ratings = np.dot(np.dot(U, sigma), Vt)\n",
        "    return predicted_ratings\n",
        "\n",
        "# Recommend Jokes\n",
        "def recommend_jokes(user_id, predicted_ratings, joke_text, num_recommendations=5):\n",
        "    user_index = user_id - 1  # User IDs are 1-based in the dataset\n",
        "    user_ratings_pred = predicted_ratings[user_index]\n",
        "    joke_indices = np.argsort(user_ratings_pred)[::-1][:num_recommendations]\n",
        "    recommended_jokes = [joke_text.iloc[joke_id]['JokeText'] for joke_id in joke_indices if joke_id < len(joke_text)]\n",
        "    return recommended_jokes"
      ],
      "metadata": {
        "id": "4peCmPd2tKU-"
      },
      "execution_count": 84,
      "outputs": []
    },
    {
      "cell_type": "code",
      "source": [
        "def find_jokes_by_keyword(keyword, joke_text):\n",
        "    return joke_text[joke_text['JokeText'].str.contains(keyword, case=False, na=False)]\n",
        "\n",
        "# Recommend jokes based on keyword\n",
        "def recommend_jokes_by_keyword(keyword, joke_text, user_id, predicted_ratings, num_recommendations=5):\n",
        "    jokes_with_keyword = find_jokes_by_keyword(keyword, joke_text)\n",
        "    if jokes_with_keyword.empty:\n",
        "        return []\n",
        "    joke_ids = jokes_with_keyword.index.tolist()\n",
        "    user_index = user_id - 1\n",
        "    user_ratings_pred = predicted_ratings[user_index]\n",
        "    joke_indices = [idx for idx in np.argsort(user_ratings_pred)[::-1] if idx in joke_ids]\n",
        "    recommended_jokes = [joke_text.iloc[joke_id]['JokeText'] for joke_id in joke_indices[:num_recommendations]]\n",
        "    return recommended_jokes\n"
      ],
      "metadata": {
        "id": "zYA3hl8JtOWx"
      },
      "execution_count": 85,
      "outputs": []
    },
    {
      "cell_type": "code",
      "source": [
        "# Main Function\n",
        "if __name__ == \"__main__\":\n",
        "    joke_text, user_ratings = load_data()\n",
        "    ratings_matrix = preprocess_data(user_ratings)\n",
        "    predicted_ratings = train_svd_model(ratings_matrix, k=20)\n",
        "\n",
        "    # Input keyword\n",
        "    keyword = input(\"Enter a keyword to search for jokes: \")\n",
        "    recommended_jokes_user_1 = recommend_jokes_by_keyword(keyword, joke_text, 1, predicted_ratings, 5)\n",
        "\n",
        "    if recommended_jokes_user_1:\n",
        "        print(f\"Recommended Jokes containing the keyword '{keyword}' for User 1:\")\n",
        "        for joke in recommended_jokes_user_1:\n",
        "            print(joke)\n",
        "    else:\n",
        "        print(f\"No jokes containing the keyword '{keyword}' were found.\")"
      ],
      "metadata": {
        "colab": {
          "base_uri": "https://localhost:8080/"
        },
        "id": "CTuBrhZRtVYL",
        "outputId": "cb522cd3-37f8-478b-b8f7-8e05e154852d"
      },
      "execution_count": 89,
      "outputs": [
        {
          "output_type": "stream",
          "name": "stdout",
          "text": [
            "Enter a keyword to search for jokes: doctor\n",
            "Recommended Jokes containing the keyword 'doctor' for User 1:\n",
            "A man visits the doctor. The doctor says \"I have bad news for you.You have\n",
            "cancer and Alzheimer's disease\". \n",
            "The man replies \"Well,thank God I don't have cancer!\"\n",
            "\n",
            "A Czechoslovakian man felt his eyesight was growing steadily worse, and \n",
            "felt it was time to go see an optometrist. \n",
            "\n",
            "The doctor started with some simple testing, and showed him a standard eye \n",
            "chart with letters of\n",
            "diminishing size: CRKBNWXSKZY. . . \n",
            "\n",
            "\"Can you read this?\" the doctor asked. \n",
            "\n",
            "\"Read it?\" the Czech answered. \"Doc, I know him!\"\n",
            "\n",
            "A man, recently completing a routine physical examination receives a\n",
            "phone call from his doctor.  The doctor says, \"I have some good news and\n",
            "some bad news.\"  The man says, \"OK, give me the good news first.\"  The\n",
            "doctor says, \"The good news is, you have 24 hours to live.\"  The man\n",
            "replies, \"Shit!  That's the good news?  Then what's the bad news?\"\n",
            "\n",
            "The doctor says, \"The bad news is, I forgot to call you yesterday.\"\n",
            "\n"
          ]
        }
      ]
    },
    {
      "cell_type": "code",
      "source": [
        "print(\"JokeText columns:\", joke_text.columns)\n",
        "print(\"UserRatings columns:\", user_ratings.columns)"
      ],
      "metadata": {
        "colab": {
          "base_uri": "https://localhost:8080/"
        },
        "id": "2gSXGHM_mKV2",
        "outputId": "d27eb03b-33d4-494c-8ee3-10a753f8e746"
      },
      "execution_count": 20,
      "outputs": [
        {
          "output_type": "stream",
          "name": "stdout",
          "text": [
            "JokeText columns: Index(['JokeId', 'JokeText'], dtype='object')\n",
            "UserRatings columns: Index(['JokeId', 'User1', 'User2', 'User3', 'User4', 'User5', 'User6', 'User7',\n",
            "       'User8', 'User9',\n",
            "       ...\n",
            "       'User73412', 'User73413', 'User73414', 'User73415', 'User73416',\n",
            "       'User73417', 'User73418', 'User73419', 'User73420', 'User73421'],\n",
            "      dtype='object', length=73423)\n"
          ]
        }
      ]
    },
    {
      "cell_type": "code",
      "source": [
        "joke_text.head()\n"
      ],
      "metadata": {
        "colab": {
          "base_uri": "https://localhost:8080/",
          "height": 206
        },
        "id": "Ud2R4mVGQete",
        "outputId": "a74a0683-5c0e-45a5-c166-f94dfe0acc6b"
      },
      "execution_count": 21,
      "outputs": [
        {
          "output_type": "execute_result",
          "data": {
            "text/plain": [
              "   JokeId                                           JokeText\n",
              "0       0  A man visits the doctor. The doctor says \"I ha...\n",
              "1       1  This couple had an excellent relationship goin...\n",
              "2       2  Q. What's 200 feet long and has 4 teeth? \\n\\nA...\n",
              "3       3  Q. What's the difference between a man and a t...\n",
              "4       4  Q.\\tWhat's O. J. Simpson's Internet address? \\..."
            ],
            "text/html": [
              "\n",
              "  <div id=\"df-a1e5d328-29d1-4613-8ec2-426e4d4dc16a\" class=\"colab-df-container\">\n",
              "    <div>\n",
              "<style scoped>\n",
              "    .dataframe tbody tr th:only-of-type {\n",
              "        vertical-align: middle;\n",
              "    }\n",
              "\n",
              "    .dataframe tbody tr th {\n",
              "        vertical-align: top;\n",
              "    }\n",
              "\n",
              "    .dataframe thead th {\n",
              "        text-align: right;\n",
              "    }\n",
              "</style>\n",
              "<table border=\"1\" class=\"dataframe\">\n",
              "  <thead>\n",
              "    <tr style=\"text-align: right;\">\n",
              "      <th></th>\n",
              "      <th>JokeId</th>\n",
              "      <th>JokeText</th>\n",
              "    </tr>\n",
              "  </thead>\n",
              "  <tbody>\n",
              "    <tr>\n",
              "      <th>0</th>\n",
              "      <td>0</td>\n",
              "      <td>A man visits the doctor. The doctor says \"I ha...</td>\n",
              "    </tr>\n",
              "    <tr>\n",
              "      <th>1</th>\n",
              "      <td>1</td>\n",
              "      <td>This couple had an excellent relationship goin...</td>\n",
              "    </tr>\n",
              "    <tr>\n",
              "      <th>2</th>\n",
              "      <td>2</td>\n",
              "      <td>Q. What's 200 feet long and has 4 teeth? \\n\\nA...</td>\n",
              "    </tr>\n",
              "    <tr>\n",
              "      <th>3</th>\n",
              "      <td>3</td>\n",
              "      <td>Q. What's the difference between a man and a t...</td>\n",
              "    </tr>\n",
              "    <tr>\n",
              "      <th>4</th>\n",
              "      <td>4</td>\n",
              "      <td>Q.\\tWhat's O. J. Simpson's Internet address? \\...</td>\n",
              "    </tr>\n",
              "  </tbody>\n",
              "</table>\n",
              "</div>\n",
              "    <div class=\"colab-df-buttons\">\n",
              "\n",
              "  <div class=\"colab-df-container\">\n",
              "    <button class=\"colab-df-convert\" onclick=\"convertToInteractive('df-a1e5d328-29d1-4613-8ec2-426e4d4dc16a')\"\n",
              "            title=\"Convert this dataframe to an interactive table.\"\n",
              "            style=\"display:none;\">\n",
              "\n",
              "  <svg xmlns=\"http://www.w3.org/2000/svg\" height=\"24px\" viewBox=\"0 -960 960 960\">\n",
              "    <path d=\"M120-120v-720h720v720H120Zm60-500h600v-160H180v160Zm220 220h160v-160H400v160Zm0 220h160v-160H400v160ZM180-400h160v-160H180v160Zm440 0h160v-160H620v160ZM180-180h160v-160H180v160Zm440 0h160v-160H620v160Z\"/>\n",
              "  </svg>\n",
              "    </button>\n",
              "\n",
              "  <style>\n",
              "    .colab-df-container {\n",
              "      display:flex;\n",
              "      gap: 12px;\n",
              "    }\n",
              "\n",
              "    .colab-df-convert {\n",
              "      background-color: #E8F0FE;\n",
              "      border: none;\n",
              "      border-radius: 50%;\n",
              "      cursor: pointer;\n",
              "      display: none;\n",
              "      fill: #1967D2;\n",
              "      height: 32px;\n",
              "      padding: 0 0 0 0;\n",
              "      width: 32px;\n",
              "    }\n",
              "\n",
              "    .colab-df-convert:hover {\n",
              "      background-color: #E2EBFA;\n",
              "      box-shadow: 0px 1px 2px rgba(60, 64, 67, 0.3), 0px 1px 3px 1px rgba(60, 64, 67, 0.15);\n",
              "      fill: #174EA6;\n",
              "    }\n",
              "\n",
              "    .colab-df-buttons div {\n",
              "      margin-bottom: 4px;\n",
              "    }\n",
              "\n",
              "    [theme=dark] .colab-df-convert {\n",
              "      background-color: #3B4455;\n",
              "      fill: #D2E3FC;\n",
              "    }\n",
              "\n",
              "    [theme=dark] .colab-df-convert:hover {\n",
              "      background-color: #434B5C;\n",
              "      box-shadow: 0px 1px 3px 1px rgba(0, 0, 0, 0.15);\n",
              "      filter: drop-shadow(0px 1px 2px rgba(0, 0, 0, 0.3));\n",
              "      fill: #FFFFFF;\n",
              "    }\n",
              "  </style>\n",
              "\n",
              "    <script>\n",
              "      const buttonEl =\n",
              "        document.querySelector('#df-a1e5d328-29d1-4613-8ec2-426e4d4dc16a button.colab-df-convert');\n",
              "      buttonEl.style.display =\n",
              "        google.colab.kernel.accessAllowed ? 'block' : 'none';\n",
              "\n",
              "      async function convertToInteractive(key) {\n",
              "        const element = document.querySelector('#df-a1e5d328-29d1-4613-8ec2-426e4d4dc16a');\n",
              "        const dataTable =\n",
              "          await google.colab.kernel.invokeFunction('convertToInteractive',\n",
              "                                                    [key], {});\n",
              "        if (!dataTable) return;\n",
              "\n",
              "        const docLinkHtml = 'Like what you see? Visit the ' +\n",
              "          '<a target=\"_blank\" href=https://colab.research.google.com/notebooks/data_table.ipynb>data table notebook</a>'\n",
              "          + ' to learn more about interactive tables.';\n",
              "        element.innerHTML = '';\n",
              "        dataTable['output_type'] = 'display_data';\n",
              "        await google.colab.output.renderOutput(dataTable, element);\n",
              "        const docLink = document.createElement('div');\n",
              "        docLink.innerHTML = docLinkHtml;\n",
              "        element.appendChild(docLink);\n",
              "      }\n",
              "    </script>\n",
              "  </div>\n",
              "\n",
              "\n",
              "<div id=\"df-11409b83-9d38-4664-b0d6-56b496d91add\">\n",
              "  <button class=\"colab-df-quickchart\" onclick=\"quickchart('df-11409b83-9d38-4664-b0d6-56b496d91add')\"\n",
              "            title=\"Suggest charts\"\n",
              "            style=\"display:none;\">\n",
              "\n",
              "<svg xmlns=\"http://www.w3.org/2000/svg\" height=\"24px\"viewBox=\"0 0 24 24\"\n",
              "     width=\"24px\">\n",
              "    <g>\n",
              "        <path d=\"M19 3H5c-1.1 0-2 .9-2 2v14c0 1.1.9 2 2 2h14c1.1 0 2-.9 2-2V5c0-1.1-.9-2-2-2zM9 17H7v-7h2v7zm4 0h-2V7h2v10zm4 0h-2v-4h2v4z\"/>\n",
              "    </g>\n",
              "</svg>\n",
              "  </button>\n",
              "\n",
              "<style>\n",
              "  .colab-df-quickchart {\n",
              "      --bg-color: #E8F0FE;\n",
              "      --fill-color: #1967D2;\n",
              "      --hover-bg-color: #E2EBFA;\n",
              "      --hover-fill-color: #174EA6;\n",
              "      --disabled-fill-color: #AAA;\n",
              "      --disabled-bg-color: #DDD;\n",
              "  }\n",
              "\n",
              "  [theme=dark] .colab-df-quickchart {\n",
              "      --bg-color: #3B4455;\n",
              "      --fill-color: #D2E3FC;\n",
              "      --hover-bg-color: #434B5C;\n",
              "      --hover-fill-color: #FFFFFF;\n",
              "      --disabled-bg-color: #3B4455;\n",
              "      --disabled-fill-color: #666;\n",
              "  }\n",
              "\n",
              "  .colab-df-quickchart {\n",
              "    background-color: var(--bg-color);\n",
              "    border: none;\n",
              "    border-radius: 50%;\n",
              "    cursor: pointer;\n",
              "    display: none;\n",
              "    fill: var(--fill-color);\n",
              "    height: 32px;\n",
              "    padding: 0;\n",
              "    width: 32px;\n",
              "  }\n",
              "\n",
              "  .colab-df-quickchart:hover {\n",
              "    background-color: var(--hover-bg-color);\n",
              "    box-shadow: 0 1px 2px rgba(60, 64, 67, 0.3), 0 1px 3px 1px rgba(60, 64, 67, 0.15);\n",
              "    fill: var(--button-hover-fill-color);\n",
              "  }\n",
              "\n",
              "  .colab-df-quickchart-complete:disabled,\n",
              "  .colab-df-quickchart-complete:disabled:hover {\n",
              "    background-color: var(--disabled-bg-color);\n",
              "    fill: var(--disabled-fill-color);\n",
              "    box-shadow: none;\n",
              "  }\n",
              "\n",
              "  .colab-df-spinner {\n",
              "    border: 2px solid var(--fill-color);\n",
              "    border-color: transparent;\n",
              "    border-bottom-color: var(--fill-color);\n",
              "    animation:\n",
              "      spin 1s steps(1) infinite;\n",
              "  }\n",
              "\n",
              "  @keyframes spin {\n",
              "    0% {\n",
              "      border-color: transparent;\n",
              "      border-bottom-color: var(--fill-color);\n",
              "      border-left-color: var(--fill-color);\n",
              "    }\n",
              "    20% {\n",
              "      border-color: transparent;\n",
              "      border-left-color: var(--fill-color);\n",
              "      border-top-color: var(--fill-color);\n",
              "    }\n",
              "    30% {\n",
              "      border-color: transparent;\n",
              "      border-left-color: var(--fill-color);\n",
              "      border-top-color: var(--fill-color);\n",
              "      border-right-color: var(--fill-color);\n",
              "    }\n",
              "    40% {\n",
              "      border-color: transparent;\n",
              "      border-right-color: var(--fill-color);\n",
              "      border-top-color: var(--fill-color);\n",
              "    }\n",
              "    60% {\n",
              "      border-color: transparent;\n",
              "      border-right-color: var(--fill-color);\n",
              "    }\n",
              "    80% {\n",
              "      border-color: transparent;\n",
              "      border-right-color: var(--fill-color);\n",
              "      border-bottom-color: var(--fill-color);\n",
              "    }\n",
              "    90% {\n",
              "      border-color: transparent;\n",
              "      border-bottom-color: var(--fill-color);\n",
              "    }\n",
              "  }\n",
              "</style>\n",
              "\n",
              "  <script>\n",
              "    async function quickchart(key) {\n",
              "      const quickchartButtonEl =\n",
              "        document.querySelector('#' + key + ' button');\n",
              "      quickchartButtonEl.disabled = true;  // To prevent multiple clicks.\n",
              "      quickchartButtonEl.classList.add('colab-df-spinner');\n",
              "      try {\n",
              "        const charts = await google.colab.kernel.invokeFunction(\n",
              "            'suggestCharts', [key], {});\n",
              "      } catch (error) {\n",
              "        console.error('Error during call to suggestCharts:', error);\n",
              "      }\n",
              "      quickchartButtonEl.classList.remove('colab-df-spinner');\n",
              "      quickchartButtonEl.classList.add('colab-df-quickchart-complete');\n",
              "    }\n",
              "    (() => {\n",
              "      let quickchartButtonEl =\n",
              "        document.querySelector('#df-11409b83-9d38-4664-b0d6-56b496d91add button');\n",
              "      quickchartButtonEl.style.display =\n",
              "        google.colab.kernel.accessAllowed ? 'block' : 'none';\n",
              "    })();\n",
              "  </script>\n",
              "</div>\n",
              "\n",
              "    </div>\n",
              "  </div>\n"
            ],
            "application/vnd.google.colaboratory.intrinsic+json": {
              "type": "dataframe",
              "variable_name": "joke_text",
              "summary": "{\n  \"name\": \"joke_text\",\n  \"rows\": 100,\n  \"fields\": [\n    {\n      \"column\": \"JokeId\",\n      \"properties\": {\n        \"dtype\": \"number\",\n        \"std\": 29,\n        \"min\": 0,\n        \"max\": 99,\n        \"num_unique_values\": 100,\n        \"samples\": [\n          83,\n          53,\n          70\n        ],\n        \"semantic_type\": \"\",\n        \"description\": \"\"\n      }\n    },\n    {\n      \"column\": \"JokeText\",\n      \"properties\": {\n        \"dtype\": \"string\",\n        \"num_unique_values\": 100,\n        \"samples\": [\n          \"Q: What is the difference between Mechanical Engineers and Civil \\nEngineers?\\n \\nA: Mechanical Engineers build weapons, Civil Engineers build targets.\\n\",\n          \"The Pope dies and, naturally, goes to heaven. He's met by the reception\\ncommittee, and after a whirlwind tour he is told that he can enjoy any\\nof the myriad of recreations available.\\nHe decides that he wants to read all of the ancient original text of the\\nHoly Scriptures, so he spends the next eon or so learning languages.\\nAfter becoming a linguistic master, he sits down in the library and\\nbegins to pour over every version of the Bible, working back from most\\nrecent \\\"Easy Reading\\\" to the original script.\\nAll of a sudden there is a scream in the library. The Angels come\\nrunning in only to find the Pope huddled in his chair, crying to himself\\nand muttering, \\\"An 'R'! The scribes left out the 'R'.\\\" \\nA particularly concerned Angel takes him aside, offering comfort, asks\\nhim what the problem is and what does he mean. \\nAfter collecting his\\nwits, the Pope sobs again, \\\"It's the letter 'R'. They left out the 'R'.\\nThe word was supposed to be CELEBRATE!\\\"\\n\",\n          \"At a recent Sacramento PC Users Group meeting,\\na company was demonstrating its latest speech-\\nrecognition software.   A representative from the\\ncompany was just about ready to start the\\ndemonstration and asked everyone in the room\\nto quiet down.\\n\\nJust then someone in the back of the room yelled,\\n\\\"Format C: Return.\\\"\\n\\nSomeone else chimed in:\\n\\\"Yes, Return\\\"\\n\\nUnfortunately, the software worked.\\n\\n\"\n        ],\n        \"semantic_type\": \"\",\n        \"description\": \"\"\n      }\n    }\n  ]\n}"
            }
          },
          "metadata": {},
          "execution_count": 21
        }
      ]
    },
    {
      "cell_type": "code",
      "source": [
        "joke_text.shape"
      ],
      "metadata": {
        "colab": {
          "base_uri": "https://localhost:8080/"
        },
        "id": "toNgVXswgwKE",
        "outputId": "f6366e8e-ac76-4333-c960-5af5c5bfb620"
      },
      "execution_count": 10,
      "outputs": [
        {
          "output_type": "execute_result",
          "data": {
            "text/plain": [
              "(100, 2)"
            ]
          },
          "metadata": {},
          "execution_count": 10
        }
      ]
    },
    {
      "cell_type": "code",
      "source": [
        "joke_text.drop_duplicates(subset ='JokeText', keep = 'first', inplace = True)\n",
        "joke_text.shape"
      ],
      "metadata": {
        "colab": {
          "base_uri": "https://localhost:8080/"
        },
        "id": "TfTVf3f9gwHW",
        "outputId": "1bed0af2-e880-45c3-d2a9-0cb4bde12c14"
      },
      "execution_count": 11,
      "outputs": [
        {
          "output_type": "execute_result",
          "data": {
            "text/plain": [
              "(100, 2)"
            ]
          },
          "metadata": {},
          "execution_count": 11
        }
      ]
    },
    {
      "cell_type": "markdown",
      "source": [
        "This shows there we no duplicates in our data"
      ],
      "metadata": {
        "id": "ulG4VTVThAOQ"
      }
    },
    {
      "cell_type": "markdown",
      "source": [
        "I wanted to improve the code by calling connotations words as well. Previous part is only giving results for the words that are in the joke but I want it to work like recommend jokes related to similar words such as if I say \"baloon\" it can also search for \"fly\", \"burst\" etc"
      ],
      "metadata": {
        "id": "GXVFE7cQursg"
      }
    },
    {
      "cell_type": "code",
      "source": [
        "pip install gensim"
      ],
      "metadata": {
        "colab": {
          "base_uri": "https://localhost:8080/"
        },
        "id": "10B7ThPtu8mX",
        "outputId": "1bba7350-7cd0-4da0-f4da-f859e1ae4536"
      },
      "execution_count": 90,
      "outputs": [
        {
          "output_type": "stream",
          "name": "stdout",
          "text": [
            "Requirement already satisfied: gensim in /usr/local/lib/python3.10/dist-packages (4.3.3)\n",
            "Requirement already satisfied: numpy<2.0,>=1.18.5 in /usr/local/lib/python3.10/dist-packages (from gensim) (1.26.4)\n",
            "Requirement already satisfied: scipy<1.14.0,>=1.7.0 in /usr/local/lib/python3.10/dist-packages (from gensim) (1.13.1)\n",
            "Requirement already satisfied: smart-open>=1.8.1 in /usr/local/lib/python3.10/dist-packages (from gensim) (7.0.4)\n",
            "Requirement already satisfied: wrapt in /usr/local/lib/python3.10/dist-packages (from smart-open>=1.8.1->gensim) (1.16.0)\n"
          ]
        }
      ]
    },
    {
      "cell_type": "code",
      "source": [
        "\n",
        "\n",
        "from gensim.models import KeyedVectors\n",
        "from gensim.downloader import load\n",
        "\n"
      ],
      "metadata": {
        "id": "sAZelEhMvCA1"
      },
      "execution_count": 91,
      "outputs": []
    },
    {
      "cell_type": "code",
      "source": [
        "def load_word2vec_model():\n",
        "    model = load(\"word2vec-google-news-300\")\n",
        "    return model"
      ],
      "metadata": {
        "id": "R9SvZ1DBwP-m"
      },
      "execution_count": 93,
      "outputs": []
    },
    {
      "cell_type": "code",
      "source": [
        "def find_jokes_by_keyword_and_related_words(keyword, joke_text, word2vec_model):\n",
        "    # Find related words using word2vec\n",
        "    related_words = [keyword]\n",
        "    if keyword in word2vec_model:\n",
        "        related_words += [w for w, _ in word2vec_model.most_similar(keyword, topn=10)]\n",
        "    # Search for jokes containing any of the related words\n",
        "    joke_mask = joke_text['JokeText'].apply(lambda x: any(word in x for word in related_words))\n",
        "    return joke_text[joke_mask]\n",
        "\n",
        "# Recommend jokes based on keyword and related words\n",
        "def recommend_jokes_by_keyword(keyword, joke_text, user_id, predicted_ratings, word2vec_model, num_recommendations=5):\n",
        "    jokes_with_keyword = find_jokes_by_keyword_and_related_words(keyword, joke_text, word2vec_model)\n",
        "    if jokes_with_keyword.empty:\n",
        "        return []\n",
        "    joke_ids = jokes_with_keyword.index.tolist()\n",
        "    user_index = user_id - 1\n",
        "    user_ratings_pred = predicted_ratings[user_index]\n",
        "    joke_indices = [idx for idx in np.argsort(user_ratings_pred)[::-1] if idx in joke_ids]\n",
        "    recommended_jokes = [joke_text.iloc[joke_id]['JokeText'] for joke_id in joke_indices[:num_recommendations]]\n",
        "    return recommended_jokes\n",
        "\n",
        "# Main Function\n",
        "if __name__ == \"__main__\":\n",
        "    word2vec_model = load_word2vec_model()\n",
        "    joke_text, user_ratings = load_data()\n",
        "    ratings_matrix = preprocess_data(user_ratings)\n",
        "    predicted_ratings = train_svd_model(ratings_matrix, k=20)\n",
        "\n",
        "    # Input keyword\n",
        "    keyword = input(\"Enter a keyword to search for jokes: \")\n",
        "    recommended_jokes_user_1 = recommend_jokes_by_keyword(keyword, joke_text, 1, predicted_ratings, word2vec_model, 5)\n",
        "\n",
        "    if recommended_jokes_user_1:\n",
        "        print(f\"Recommended Jokes containing the keyword '{keyword}' or related words for User 1:\")\n",
        "        for joke in recommended_jokes_user_1:\n",
        "            print(joke)\n",
        "    else:\n",
        "        print(f\"No jokes containing the keyword '{keyword}' or related words were found.\")"
      ],
      "metadata": {
        "colab": {
          "base_uri": "https://localhost:8080/"
        },
        "id": "GAJ0eAwPvHaD",
        "outputId": "601a6bfd-9c17-4fb0-b59b-bc8ec302e5bc"
      },
      "execution_count": 94,
      "outputs": [
        {
          "output_type": "stream",
          "name": "stdout",
          "text": [
            "[==================================================] 100.0% 1662.8/1662.8MB downloaded\n",
            "Enter a keyword to search for jokes: baloon\n",
            "Recommended Jokes containing the keyword 'baloon' or related words for User 1:\n",
            "A man piloting a hot air balloon discovers he has wandered off course and\n",
            "is hopelessly lost. He descends to a lower altitude and locates a man\n",
            "down on the ground. He lowers the balloon further and shouts \"Excuse me,\n",
            "can you tell me where I am?\"\n",
            "\n",
            "The man below says: \"Yes, you're in a hot air balloon, about 30 feet\n",
            "above this field.\"\n",
            "\n",
            "\"You must work in Information Technology,\" says the balloonist.\n",
            "\n",
            "\"Yes I do,\" replies the man. \"And how did you know that?\"\n",
            "\n",
            "\"Well,\" says the balloonist, \"what you told me is technically correct,\n",
            "but of no use to anyone.\"\n",
            "\n",
            "The man below says, \"You must work in management.\"\n",
            "\n",
            "\"I do,\" replies the balloonist, \"how did you know?\"\n",
            "\n",
            "\"Well,\" says the man, \"you don't know where you are, or where you're\n",
            "going, but you expect my immediate help. You're in the same position you\n",
            "were before we met, but now it's my fault!\"\n",
            "\n",
            "\n"
          ]
        }
      ]
    }
  ]
}